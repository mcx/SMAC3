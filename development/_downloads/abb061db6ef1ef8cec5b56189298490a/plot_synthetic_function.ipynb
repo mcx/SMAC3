{
  "cells": [
    {
      "cell_type": "code",
      "execution_count": null,
      "metadata": {
        "collapsed": false
      },
      "outputs": [],
      "source": [
        "%matplotlib inline"
      ]
    },
    {
      "cell_type": "markdown",
      "metadata": {},
      "source": [
        "\n# Synthetic Function with few Hyperparameters\n\nAn example of applying SMAC to optimize a synthetic function (2d rosenbrock function).\n\nWe use the SMAC4BB facade because it is designed for black-box function optimization.\nSMAC4BB uses a :term:`Gaussian Process<GP>` or a set of Gaussian Processes whose\nhyperparameters are integrated by Markov-Chain Monte-Carlo as its surrogate model.\nSMAC4BB works best on numerical hyperparameter configuration space and should not\nbe applied to the problems with large evaluation budgets (up to 1000 evaluations).\n"
      ]
    },
    {
      "cell_type": "code",
      "execution_count": null,
      "metadata": {
        "collapsed": false
      },
      "outputs": [],
      "source": [
        "import logging\n\nlogging.basicConfig(level=logging.INFO)\n\nimport numpy as np\nfrom ConfigSpace.hyperparameters import UniformFloatHyperparameter\n\n# Import ConfigSpace and different types of parameters\nfrom smac.configspace import ConfigurationSpace\nfrom smac.facade.smac_bb_facade import SMAC4BB\nfrom smac.optimizer.acquisition import EI\n\n# Import SMAC-utilities\nfrom smac.scenario.scenario import Scenario\n\n__copyright__ = \"Copyright 2021, AutoML.org Freiburg-Hannover\"\n__license__ = \"3-clause BSD\"\n\n\ndef rosenbrock_2d(x):\n    \"\"\"The 2 dimensional Rosenbrock function as a toy model\n    The Rosenbrock function is well know in the optimization community and\n    often serves as a toy problem. It can be defined for arbitrary\n    dimensions. The minimium is always at x_i = 1 with a function value of\n    zero. All input parameters are continuous. The search domain for\n    all x's is the interval [-5, 10].\n    \"\"\"\n\n    x1 = x[\"x0\"]\n    x2 = x[\"x1\"]\n\n    val = 100.0 * (x2 - x1**2.0) ** 2.0 + (1 - x1) ** 2.0\n    return val\n\n\nif __name__ == \"__main__\":\n    # Build Configuration Space which defines all parameters and their ranges\n    cs = ConfigurationSpace()\n    x0 = UniformFloatHyperparameter(\"x0\", -5, 10, default_value=-3)\n    x1 = UniformFloatHyperparameter(\"x1\", -5, 10, default_value=-4)\n    cs.add_hyperparameters([x0, x1])\n\n    # Scenario object\n    scenario = Scenario(\n        {\n            \"run_obj\": \"quality\",  # we optimize quality (alternatively runtime)\n            \"runcount-limit\": 10,  # max. number of function evaluations\n            \"cs\": cs,  # configuration space\n            \"deterministic\": True,\n        }\n    )\n\n    # Use 'gp' or 'gp_mcmc' here\n    model_type = \"gp\"\n\n    # Example call of the function\n    # It returns: Status, Cost, Runtime, Additional Infos\n    def_value = rosenbrock_2d(cs.get_default_configuration())\n    print(\"Default Value: %.2f\" % def_value)\n\n    # Optimize, using a SMAC-object\n    print(\"Optimizing! Depending on your machine, this might take a few minutes.\")\n    smac = SMAC4BB(\n        scenario=scenario,\n        model_type=model_type,\n        rng=np.random.RandomState(42),\n        acquisition_function=EI,  # or others like PI, LCB as acquisition functions\n        tae_runner=rosenbrock_2d,\n    )\n\n    smac.optimize()"
      ]
    }
  ],
  "metadata": {
    "kernelspec": {
      "display_name": "Python 3",
      "language": "python",
      "name": "python3"
    },
    "language_info": {
      "codemirror_mode": {
        "name": "ipython",
        "version": 3
      },
      "file_extension": ".py",
      "mimetype": "text/x-python",
      "name": "python",
      "nbconvert_exporter": "python",
      "pygments_lexer": "ipython3",
      "version": "3.9.13"
    }
  },
  "nbformat": 4,
  "nbformat_minor": 0
}