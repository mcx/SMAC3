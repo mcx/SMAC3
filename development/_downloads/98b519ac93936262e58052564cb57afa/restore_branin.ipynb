{
  "cells": [
    {
      "cell_type": "code",
      "execution_count": null,
      "metadata": {
        "collapsed": false
      },
      "outputs": [],
      "source": [
        "%matplotlib inline"
      ]
    },
    {
      "cell_type": "markdown",
      "metadata": {},
      "source": [
        "\n# Restore Branin\nThis file runs SMAC and then restores the branin run with an extended computation\nbudget. This will also work for SMAC runs that have crashed and are continued.\n"
      ]
    },
    {
      "cell_type": "code",
      "execution_count": null,
      "metadata": {
        "collapsed": false
      },
      "outputs": [],
      "source": [
        "import logging\nimport os\n\nfrom smac.facade.smac_ac_facade import SMAC4AC\nfrom smac.runhistory.runhistory import RunHistory\nfrom smac.scenario.scenario import Scenario\nfrom smac.stats.stats import Stats\nfrom smac.utils.io.traj_logging import TrajLogger\n\nlogging.basicConfig(level=logging.INFO)\n\n\n__copyright__ = \"Copyright 2021, AutoML.org Freiburg-Hannover\"\n__license__ = \"3-clause BSD\"\n\n\nif \"__main__\" == __name__:\n\n    # Initialize scenario, using runcount_limit as budget.\n    original_scenario_dict = {\n        \"algo\": \"python examples/commandline/branin.py\",\n        \"paramfile\": \"examples/commandline/branin/configspace.pcs\",\n        \"run_obj\": \"quality\",\n        \"runcount_limit\": 25,\n        \"deterministic\": True,\n        \"output_dir\": \"restore_me\",\n    }\n    original_scenario = Scenario(original_scenario_dict)\n\n    smac = SMAC4AC(scenario=original_scenario, run_id=1)\n    smac.optimize()\n\n    print(\"\\nBudget exhausted! Starting restoring optimization ...\\n\")\n\n    # Now the output is in the folder 'restore_me/run_1' (or whatever run_id has\n    # been passed to the SMAC-object above)\n    old_output_dir = os.path.join(original_scenario.output_dir, \"run_1\")\n\n    # We could simply modify the scenario-object, stored in\n    # 'smac.solver.scenario' and start optimization again:\n\n    # smac.solver.scenario.ta_run_limit = 50\n    # smac.optimize()\n\n    # Or, to show the whole process of recovering a SMAC-run from the output\n    # directory, create a new scenario with an extended budget:\n    new_scenario = Scenario(\n        original_scenario_dict,\n        cmd_options={\n            \"runcount_limit\": 50,  # overwrite these args\n            \"output_dir\": \"restored\",\n        },\n    )\n\n    # We load the runhistory\n    rh_path = os.path.join(old_output_dir, \"runhistory.json\")\n    runhistory = RunHistory()\n    runhistory.load_json(rh_path, new_scenario.cs)\n\n    # And the stats\n    stats_path = os.path.join(old_output_dir, \"stats.json\")\n    stats = Stats(new_scenario)\n    stats.load(stats_path)\n\n    # And the trajectory\n    traj_path = os.path.join(old_output_dir, \"traj_aclib2.json\")\n    trajectory = TrajLogger.read_traj_aclib_format(fn=traj_path, cs=new_scenario.cs)\n    incumbent = trajectory[-1][\"incumbent\"]\n\n    # Now we can initialize SMAC with the recovered objects and restore the\n    # state where we left off. By providing stats and a restore_incumbent, SMAC\n    # automatically detects the intention of restoring a state.\n    smac = SMAC4AC(\n        scenario=new_scenario,\n        runhistory=runhistory,\n        stats=stats,\n        restore_incumbent=incumbent,\n        run_id=1,\n    )\n\n    # Because we changed the output_dir, we might want to copy the old\n    # trajectory-file (runhistory and stats will be complete, but trajectory is\n    # written sequentially)\n    # new_traj_path = os.path.join(new_scenario.output_dir, \"run_1\", \"traj_aclib2.json\")\n    # shutil.copy(traj_path, new_traj_path)\n\n    smac.optimize()"
      ]
    }
  ],
  "metadata": {
    "kernelspec": {
      "display_name": "Python 3",
      "language": "python",
      "name": "python3"
    },
    "language_info": {
      "codemirror_mode": {
        "name": "ipython",
        "version": 3
      },
      "file_extension": ".py",
      "mimetype": "text/x-python",
      "name": "python",
      "nbconvert_exporter": "python",
      "pygments_lexer": "ipython3",
      "version": "3.9.13"
    }
  },
  "nbformat": 4,
  "nbformat_minor": 0
}