{
  "cells": [
    {
      "cell_type": "code",
      "execution_count": null,
      "metadata": {
        "collapsed": false
      },
      "outputs": [],
      "source": [
        "%matplotlib inline"
      ]
    },
    {
      "cell_type": "markdown",
      "metadata": {},
      "source": [
        "\n# SPEAR-QCP\n\nWe optimize the SPEAR algorithm on QCP to demonstrate the powerful ROAR and SMAC4AC facade using\ncommandline. Algorithm and instance definition is done inside scenario file.\n\n\nROAR:\n\n.. code-block:: bash\n\n   $ python3 ./scripts/smac.py --scenario examples/commandline/spear_qcp/scenario.txt --verbose DEBUG --mode ROAR\n\n\nSMAC4AC:\n\n.. code-block:: bash\n\n   $ python3 ./scripts/smac.py --scenario examples/commandline/spear_qcp/scenario.txt --verbose DEBUG --mode SMAC4AC\n"
      ]
    }
  ],
  "metadata": {
    "kernelspec": {
      "display_name": "Python 3",
      "language": "python",
      "name": "python3"
    },
    "language_info": {
      "codemirror_mode": {
        "name": "ipython",
        "version": 3
      },
      "file_extension": ".py",
      "mimetype": "text/x-python",
      "name": "python",
      "nbconvert_exporter": "python",
      "pygments_lexer": "ipython3",
      "version": "3.9.13"
    }
  },
  "nbformat": 4,
  "nbformat_minor": 0
}