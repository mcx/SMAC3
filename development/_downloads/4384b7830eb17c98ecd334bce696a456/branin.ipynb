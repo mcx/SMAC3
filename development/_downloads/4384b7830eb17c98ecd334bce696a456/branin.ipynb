{
  "cells": [
    {
      "cell_type": "code",
      "execution_count": null,
      "metadata": {
        "collapsed": false
      },
      "outputs": [],
      "source": [
        "%matplotlib inline"
      ]
    },
    {
      "cell_type": "markdown",
      "metadata": {},
      "source": [
        "\n# Branin\n\nThis file is a wrapper used by SMAC to optimize parameters on the branin function.\nTo run this example in the terminal, execute:\n\n.. code-block:: bash\n\n    python ./scripts/smac.py --scenario examples/commandline/branin/scenario.txt\n\n\nInside the scenario, this file and also ``configspace.pcs`` is referenced and therefore used\nfor the optimization. A full call by SMAC looks like this:\n\n.. code-block:: bash\n\n    <algo>           <instance> <instance specific> <cutoff time>  <runlength> <seed> <parameters>\n    python branin.py 0          0                   9999999        0           12345  -x1 0 -x2 0\n\n\nSince SMAC processes results from the commandline, print-statements are\ncrucial. The format of the results must be the following to ensure correct usage:\n\n.. code-block:: bash\n\n    Result for SMAC: <STATUS>, <runtime>, <runlength>, <quality>, <seed>, <instance-specifics>\n"
      ]
    },
    {
      "cell_type": "code",
      "execution_count": null,
      "metadata": {
        "collapsed": false
      },
      "outputs": [],
      "source": [
        "import sys\n\nimport numpy as np\n\n__copyright__ = \"Copyright 2021, AutoML.org Freiburg-Hannover\"\n__license__ = \"3-clause BSD\"\n\n\ndef branin(x):\n    x1 = x[0]\n    x2 = x[1]\n    a = 1.0\n    b = 5.1 / (4.0 * np.pi**2)\n    c = 5.0 / np.pi\n    r = 6.0\n    s = 10.0\n    t = 1.0 / (8.0 * np.pi)\n    ret = a * (x2 - b * x1**2 + c * x1 - r) ** 2 + s * (1 - t) * np.cos(x1) + s\n\n    return ret\n\n\nif __name__ == \"__main__\":\n    # Unused in this example:\n    # instance, instance_specific, cutoff, runlength = sys.argv[1:5]\n    seed = sys.argv[5]\n\n    # sys.argv[6] and sys.argv[8] are the names of the target algorithm\n    # parameters (here: \"-x1\", \"-x2\")\n    x = float(sys.argv[7])\n    y = float(sys.argv[9])\n    result = branin((x, y))\n\n    # This line is important so the result can be processed by SMAC:\n    print(\"Result for SMAC: SUCCESS, -1, -1, %f, %s\" % (result, seed))"
      ]
    }
  ],
  "metadata": {
    "kernelspec": {
      "display_name": "Python 3",
      "language": "python",
      "name": "python3"
    },
    "language_info": {
      "codemirror_mode": {
        "name": "ipython",
        "version": 3
      },
      "file_extension": ".py",
      "mimetype": "text/x-python",
      "name": "python",
      "nbconvert_exporter": "python",
      "pygments_lexer": "ipython3",
      "version": "3.9.13"
    }
  },
  "nbformat": 4,
  "nbformat_minor": 0
}