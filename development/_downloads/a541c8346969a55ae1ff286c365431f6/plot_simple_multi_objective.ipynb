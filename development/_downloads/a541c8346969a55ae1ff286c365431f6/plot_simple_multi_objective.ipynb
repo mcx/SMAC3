{
  "cells": [
    {
      "cell_type": "code",
      "execution_count": null,
      "metadata": {
        "collapsed": false
      },
      "outputs": [],
      "source": [
        "%matplotlib inline"
      ]
    },
    {
      "cell_type": "markdown",
      "metadata": {},
      "source": [
        "\n# Simple Multi-Objective\n"
      ]
    },
    {
      "cell_type": "code",
      "execution_count": null,
      "metadata": {
        "collapsed": false
      },
      "outputs": [],
      "source": [
        "__copyright__ = \"Copyright 2021, AutoML.org Freiburg-Hannover\"\n__license__ = \"3-clause BSD\"\n\nimport numpy as np\nfrom ConfigSpace.hyperparameters import UniformFloatHyperparameter\nfrom matplotlib import pyplot as plt\n\nfrom smac.configspace import ConfigurationSpace\nfrom smac.facade.smac_bb_facade import SMAC4BB\nfrom smac.scenario.scenario import Scenario\n\n\ndef schaffer(x):\n    f1 = np.square(x)\n    f2 = np.square(np.sqrt(f1) - 2)\n\n    return f1, f2\n\n\ndef plot(all_x):\n    plt.figure()\n    for x in all_x:\n        f1, f2 = schaffer(x)\n        plt.scatter(f1, f2, c=\"blue\", alpha=0.1)\n\n    plt.show()\n\n\ndef plot_from_smac(smac):\n    rh = smac.get_runhistory()\n    all_x = []\n    for (config_id, _, _, _) in rh.data.keys():\n        config = rh.ids_config[config_id]\n        all_x.append(config[\"x\"])\n\n    plot(all_x)\n\n\ndef tae(cfg):\n    f1, f2 = schaffer(cfg[\"x\"])\n    return {\"metric1\": f1, \"metric2\": f2}\n\n\nif __name__ == \"__main__\":\n    MIN_V = -2\n    MAX_V = 2\n\n    # Simple configspace\n    cs = ConfigurationSpace()\n    cs.add_hyperparameter(UniformFloatHyperparameter(\"x\", lower=MIN_V, upper=MAX_V))\n\n    # Scenario object\n    scenario = Scenario(\n        {\n            \"run_obj\": \"quality\",  # we optimize quality (alternatively runtime)\n            \"runcount-limit\": 50,  # max. number of function evaluations\n            \"cs\": cs,  # configuration space\n            \"multi_objectives\": \"metric1, metric2\",\n            \"limit_resources\": False,\n        }\n    )\n\n    smac = SMAC4BB(\n        scenario=scenario,\n        rng=np.random.RandomState(5),\n        tae_runner=tae,\n    )\n    incumbent = smac.optimize()\n\n    # Plot the evaluated points\n    plot_from_smac(smac)"
      ]
    }
  ],
  "metadata": {
    "kernelspec": {
      "display_name": "Python 3",
      "language": "python",
      "name": "python3"
    },
    "language_info": {
      "codemirror_mode": {
        "name": "ipython",
        "version": 3
      },
      "file_extension": ".py",
      "mimetype": "text/x-python",
      "name": "python",
      "nbconvert_exporter": "python",
      "pygments_lexer": "ipython3",
      "version": "3.9.13"
    }
  },
  "nbformat": 4,
  "nbformat_minor": 0
}