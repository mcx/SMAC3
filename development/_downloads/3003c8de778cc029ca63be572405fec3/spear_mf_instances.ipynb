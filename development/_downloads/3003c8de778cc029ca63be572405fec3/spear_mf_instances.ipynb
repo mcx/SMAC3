{
  "cells": [
    {
      "cell_type": "code",
      "execution_count": null,
      "metadata": {
        "collapsed": false
      },
      "outputs": [],
      "source": [
        "%matplotlib inline"
      ]
    },
    {
      "cell_type": "markdown",
      "metadata": {},
      "source": [
        "\n# SPEAR-QCP with Multi-Fidelity on Instances\n\nWe optimize the SPEAR algorithm on QCP to demonstrate the powerful SMAC4AC facade. Algorithm and\ninstance definition is done inside scenario file.\n\nMoreover, we present you an alternative :term:`intensification<Intensification>` procedure \"Successive Halving\".\n"
      ]
    },
    {
      "cell_type": "code",
      "execution_count": null,
      "metadata": {
        "collapsed": false
      },
      "outputs": [],
      "source": [
        "import logging\n\nlogging.basicConfig(level=logging.INFO)\n\nfrom smac.facade.smac_ac_facade import SMAC4AC\nfrom smac.intensification.successive_halving import SuccessiveHalving\nfrom smac.scenario.scenario import Scenario\n\n__copyright__ = \"Copyright 2021, AutoML.org Freiburg-Hannover\"\n__license__ = \"3-clause BSD\"\n\n\nif __name__ == \"__main__\":\n    scenario = Scenario(\"examples/commandline/spear_qcp/scenario.txt\")\n\n    # provide arguments for the intensifier like this\n    intensifier_kwargs = {\n        \"n_seeds\": 2,  # specify the number of seeds to evaluate for a non-deterministic target algorithm\n        \"initial_budget\": 1,\n        \"eta\": 3,\n        \"min_chall\": 1,  # because successive halving cannot handle min_chall > 1\n    }\n\n    smac = SMAC4AC(\n        scenario=scenario,  # scenario object\n        intensifier_kwargs=intensifier_kwargs,  # arguments for Successive Halving\n        # change intensifier to successive halving by passing the class.\n        # it must implement `AbstractRacer`.\n        intensifier=SuccessiveHalving,\n    )\n\n    # Start optimization\n    try:\n        incumbent = smac.optimize()\n    finally:\n        incumbent = smac.solver.incumbent\n\n    print(\"Optimized configuration %s\" % str(incumbent))"
      ]
    }
  ],
  "metadata": {
    "kernelspec": {
      "display_name": "Python 3",
      "language": "python",
      "name": "python3"
    },
    "language_info": {
      "codemirror_mode": {
        "name": "ipython",
        "version": 3
      },
      "file_extension": ".py",
      "mimetype": "text/x-python",
      "name": "python",
      "nbconvert_exporter": "python",
      "pygments_lexer": "ipython3",
      "version": "3.9.13"
    }
  },
  "nbformat": 4,
  "nbformat_minor": 0
}