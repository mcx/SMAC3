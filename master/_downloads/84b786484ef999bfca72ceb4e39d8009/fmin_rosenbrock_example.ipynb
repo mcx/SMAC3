{
  "cells": [
    {
      "cell_type": "code",
      "execution_count": null,
      "metadata": {
        "collapsed": false
      },
      "outputs": [],
      "source": [
        "%matplotlib inline"
      ]
    },
    {
      "cell_type": "markdown",
      "metadata": {},
      "source": [
        "\n# scipy-style fmin interface\n\n"
      ]
    },
    {
      "cell_type": "code",
      "execution_count": null,
      "metadata": {
        "collapsed": false
      },
      "outputs": [],
      "source": [
        "import logging\nlogging.basicConfig(level=20)\n\nfrom smac.facade.func_facade import fmin_smac\n\n__copyright__ = \"Copyright 2021, AutoML.org Freiburg-Hannover\"\n__license__ = \"3-clause BSD\"\n\n\ndef rosenbrock_2d(x):\n    \"\"\" The 2 dimensional Rosenbrock function as a toy model\n    The Rosenbrock function is well know in the optimization community and\n    often serves as a toy problem. It can be defined for arbitrary\n    dimensions. The minimium is always at x_i = 1 with a function value of\n    zero. All input parameters are continuous. The search domain for\n    all x's is the interval [-5, 10].\n    \"\"\"\n    x1 = x[0]\n    x2 = x[1]\n\n    val = 100. * (x2 - x1 ** 2.) ** 2. + (1 - x1) ** 2.\n    return val\n\n\nif __name__ == \"__main__\":\n    # fmin_smac assumes that the function is deterministic\n    # and uses under the hood the SMAC4HPO\n    x, cost, _ = fmin_smac(func=rosenbrock_2d,\n                           x0=[-3, -4],\n                           bounds=[(-5, 10), (-5, 10)],\n                           maxfun=10,\n                           rng=3)  # Passing a seed makes fmin_smac determistic\n\n    print(\"Best x: %s; with cost: %f\" % (str(x), cost))"
      ]
    }
  ],
  "metadata": {
    "kernelspec": {
      "display_name": "Python 3",
      "language": "python",
      "name": "python3"
    },
    "language_info": {
      "codemirror_mode": {
        "name": "ipython",
        "version": 3
      },
      "file_extension": ".py",
      "mimetype": "text/x-python",
      "name": "python",
      "nbconvert_exporter": "python",
      "pygments_lexer": "ipython3",
      "version": "3.8.12"
    }
  },
  "nbformat": 4,
  "nbformat_minor": 0
}