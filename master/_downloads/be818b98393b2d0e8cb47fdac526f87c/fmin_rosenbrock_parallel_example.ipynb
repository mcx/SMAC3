{
  "cells": [
    {
      "cell_type": "code",
      "execution_count": null,
      "metadata": {
        "collapsed": false
      },
      "outputs": [],
      "source": [
        "%matplotlib inline"
      ]
    },
    {
      "cell_type": "markdown",
      "metadata": {},
      "source": [
        "\n# Parallel Intensifier with No Intensification\n\n\nThis example showcases how to use dask to\nlaunch parallel configurations via n_workers\n"
      ]
    },
    {
      "cell_type": "code",
      "execution_count": null,
      "metadata": {
        "collapsed": false
      },
      "outputs": [],
      "source": [
        "import logging\nlogging.basicConfig(level=logging.INFO)\n\nfrom smac.intensification.simple_intensifier import SimpleIntensifier\nfrom smac.facade.func_facade import fmin_smac\n\n# --------------------------------------------------------------\n# We need to provide a pickable function and use __main__\n# to be compliant with multiprocessing API\n# Below is a work around to have a packaged function called\n# rosenbrock_2d\n# --------------------------------------------------------------\nimport os\nimport sys\n\n__copyright__ = \"Copyright 2021, AutoML.org Freiburg-Hannover\"\n__license__ = \"3-clause BSD\"\n\n\n# https://sphinx-gallery.github.io/stable/faq.html#why-is-file-not-defined-what-can-i-use\ncwd = os.path.dirname(__file__) if '__file__' in globals() else os.getcwd()\nsys.path.append(os.path.join(cwd))\nfrom rosenbrock_2d_delayed_func import rosenbrock_2d  # noqa: E402\n# --------------------------------------------------------------\n\n\nif __name__ == '__main__':\n    # fmin_smac assumes that the function is deterministic\n    # and uses under the hood the SMAC4HPO\n    # n_workers tells the SMBO loop to execute in parallel\n    x, cost, smac = fmin_smac(\n        func=rosenbrock_2d,\n        intensifier=SimpleIntensifier,\n        x0=[-3, -4],\n        bounds=[(-5, 10), (-5, 10)],\n        maxfun=25,\n        rng=3,\n        n_jobs=4,\n    )  # Passing a seed makes fmin_smac determistic\n\n    print(\"Best x: %s; with cost: %f\" % (str(x), cost))"
      ]
    }
  ],
  "metadata": {
    "kernelspec": {
      "display_name": "Python 3",
      "language": "python",
      "name": "python3"
    },
    "language_info": {
      "codemirror_mode": {
        "name": "ipython",
        "version": 3
      },
      "file_extension": ".py",
      "mimetype": "text/x-python",
      "name": "python",
      "nbconvert_exporter": "python",
      "pygments_lexer": "ipython3",
      "version": "3.8.12"
    }
  },
  "nbformat": 4,
  "nbformat_minor": 0
}