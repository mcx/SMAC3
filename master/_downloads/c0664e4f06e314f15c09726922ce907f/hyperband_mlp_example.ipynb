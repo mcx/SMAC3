{
  "cells": [
    {
      "cell_type": "code",
      "execution_count": null,
      "metadata": {
        "collapsed": false
      },
      "outputs": [],
      "source": [
        "%matplotlib inline"
      ]
    },
    {
      "cell_type": "markdown",
      "metadata": {},
      "source": [
        "\n# Optimizing an MLP with Hyperband\n\n\nAn example for the usage of a model-free Hyperband intensifier in SMAC.\nThe configurations are randomly sampled\n\nIn this example, we use a real-valued budget in hyperband (number of epochs to train the MLP) and\noptimize the average accuracy on a 5-fold cross validation.\n"
      ]
    },
    {
      "cell_type": "code",
      "execution_count": null,
      "metadata": {
        "collapsed": false
      },
      "outputs": [],
      "source": [
        "import logging\nlogging.basicConfig(level=logging.INFO)\n\nfrom ConfigSpace.hyperparameters import CategoricalHyperparameter, \\\n    UniformFloatHyperparameter, UniformIntegerHyperparameter\n\nimport numpy as np\nfrom sklearn.datasets import load_digits\nfrom sklearn.exceptions import ConvergenceWarning\nfrom sklearn.model_selection import cross_val_score, StratifiedKFold\nfrom sklearn.neural_network import MLPClassifier\n\nfrom smac.configspace import ConfigurationSpace\nfrom smac.facade.hyperband_facade import HB4AC\nfrom smac.scenario.scenario import Scenario\n\nimport warnings\n\n__copyright__ = \"Copyright 2021, AutoML.org Freiburg-Hannover\"\n__license__ = \"3-clause BSD\"\n\n\ndigits = load_digits()\n\n\n# Target Algorithm\n# The signature of the function determines what arguments are passed to it\n# i.e., budget is passed to the target algorithm if it is present in the signature\ndef mlp_from_cfg(cfg, seed, instance, budget, **kwargs):\n    \"\"\"\n        Creates a MLP classifier from sklearn and fits the given data on it.\n        This is the function-call we try to optimize. Chosen values are stored in\n        the configuration (cfg).\n\n        Parameters\n        ----------\n        cfg: Configuration\n            configuration chosen by smac\n        seed: int or RandomState\n            used to initialize the rf's random generator\n        instance: str\n            used to represent the instance to use (just a placeholder for this example)\n        budget: float\n            used to set max iterations for the MLP\n\n        Returns\n        -------\n        float\n    \"\"\"\n\n    with warnings.catch_warnings():\n        warnings.filterwarnings('ignore', category=ConvergenceWarning)\n\n        mlp = MLPClassifier(\n            hidden_layer_sizes=[cfg[\"n_neurons\"]] * cfg[\"n_layer\"],\n            batch_size=cfg['batch_size'],\n            activation=cfg['activation'],\n            learning_rate_init=cfg['learning_rate_init'],\n            max_iter=int(np.ceil(budget)),\n            random_state=seed)\n\n        # returns the cross validation accuracy\n        # to make CV splits consistent\n        cv = StratifiedKFold(n_splits=5, random_state=seed, shuffle=True)\n        score = cross_val_score(mlp, digits.data, digits.target, cv=cv, error_score='raise')\n\n    return 1 - np.mean(score)  # Because minimize!\n\n\nif __name__ == \"__main__\":\n    # Build Configuration Space which defines all parameters and their ranges.\n    # To illustrate different parameter types,\n    # we use continuous, integer and categorical parameters.\n    cs = ConfigurationSpace()\n\n    # We can add multiple hyperparameters at once:\n    n_layer = UniformIntegerHyperparameter(\"n_layer\", 1, 5, default_value=1)\n    n_neurons = UniformIntegerHyperparameter(\"n_neurons\", 8, 1024, log=True, default_value=10)\n    activation = CategoricalHyperparameter(\"activation\", ['logistic', 'tanh', 'relu'],\n                                           default_value='tanh')\n    batch_size = UniformIntegerHyperparameter('batch_size', 30, 300, default_value=200)\n    learning_rate_init = UniformFloatHyperparameter('learning_rate_init', 0.0001, 1.0, default_value=0.001, log=True)\n    cs.add_hyperparameters([n_layer, n_neurons, activation, batch_size, learning_rate_init])\n\n    # SMAC scenario object\n    scenario = Scenario({\"run_obj\": \"quality\",  # we optimize quality (alternative to runtime)\n                        \"wallclock-limit\": 100,  # max duration to run the optimization (in seconds)\n                         \"cs\": cs,  # configuration space\n                         \"deterministic\": \"true\",\n                         \"limit_resources\": True,  # Uses pynisher to limit memory and runtime\n                         # Alternatively, you can also disable this.\n                         # Then you should handle runtime and memory yourself in the TA\n                         \"cutoff\": 30,  # runtime limit for target algorithm\n                         \"memory_limit\": 3072,  # adapt this to reasonable value for your hardware\n                         })\n\n    # max budget for hyperband can be anything. Here, we set it to maximum no. of epochs to train the MLP for\n    max_iters = 50\n    # intensifier parameters\n    intensifier_kwargs = {'initial_budget': 5, 'max_budget': max_iters, 'eta': 3}\n    # To optimize, we pass the function to the SMAC-object\n    smac = HB4AC(scenario=scenario, rng=np.random.RandomState(42),\n                 tae_runner=mlp_from_cfg,\n                 intensifier_kwargs=intensifier_kwargs)  # all arguments related to intensifier can be passed like this\n\n    # Example call of the function with default values\n    # It returns: Status, Cost, Runtime, Additional Infos\n    def_value = smac.get_tae_runner().run(config=cs.get_default_configuration(),\n                                          instance='1', budget=max_iters, seed=0)[1]\n    print(\"Value for default configuration: %.4f\" % def_value)\n\n    # Start optimization\n    try:\n        incumbent = smac.optimize()\n    finally:\n        incumbent = smac.solver.incumbent\n\n    inc_value = smac.get_tae_runner().run(config=incumbent, instance='1',\n                                          budget=max_iters, seed=0)[1]\n    print(\"Optimized Value: %.4f\" % inc_value)"
      ]
    }
  ],
  "metadata": {
    "kernelspec": {
      "display_name": "Python 3",
      "language": "python",
      "name": "python3"
    },
    "language_info": {
      "codemirror_mode": {
        "name": "ipython",
        "version": 3
      },
      "file_extension": ".py",
      "mimetype": "text/x-python",
      "name": "python",
      "nbconvert_exporter": "python",
      "pygments_lexer": "ipython3",
      "version": "3.8.12"
    }
  },
  "nbformat": 4,
  "nbformat_minor": 0
}