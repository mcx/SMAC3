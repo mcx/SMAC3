{
  "cells": [
    {
      "cell_type": "code",
      "execution_count": null,
      "metadata": {
        "collapsed": false
      },
      "outputs": [],
      "source": [
        "%matplotlib inline"
      ]
    },
    {
      "cell_type": "markdown",
      "metadata": {},
      "source": [
        "\n# Quickstart\n\n"
      ]
    },
    {
      "cell_type": "markdown",
      "metadata": {},
      "source": [
        "If you have not installed *SMAC* yet take a look at the\n`installation instructions <installation>` and make sure that all the requirements are fulfilled.\nExamples to illustrate the usage of *SMAC* - either by reading in a scenario file,\nor by directly using *SMAC* in Python - are provided in the examples-folder.\n\nTo get started, we will walk you through a few examples.\n\n* First, we explain the basic usage of *SMAC* by optimizing the\n`Branin <branin-example>`-function as a toy example.\n* Second, we explain the usage of *SMAC* within Python by optimizing a `Support Vector Machine <svm-example>`.\n* Third, we show a real-world example, using an algorithm-wrapper to optimize the\n`SPEAR SAT-solver <spear-example>`.\n\n\n"
      ]
    },
    {
      "cell_type": "markdown",
      "metadata": {},
      "source": [
        "\nBranin\n======\nFirst of, we'll demonstrate the usage of *SMAC* on the minimization of\n`the standard 2-dimensional continuous test function Branin <https://www.sfu.ca/~ssurjano/branin.html>`_.\n\n\n"
      ]
    },
    {
      "cell_type": "code",
      "execution_count": null,
      "metadata": {
        "collapsed": false
      },
      "outputs": [],
      "source": [
        "import numpy as np\n\n\ndef branin(x):\n    x1 = x[0]\n    x2 = x[1]\n    a = 1.\n    b = 5.1 / (4. * np.pi ** 2)\n    c = 5. / np.pi\n    r = 6.\n    s = 10.\n    t = 1. / (8. * np.pi)\n    ret = a * (x2 - b * x1 ** 2 + c * x1 - r) ** 2 + s * (1 - t) * np.cos(x1) + s\n    return ret"
      ]
    },
    {
      "cell_type": "markdown",
      "metadata": {},
      "source": [
        "This example aims to explain the basic usage of *SMAC*. There are different ways to use *SMAC*:\n\nf_min-wrapper\n~~~~~~~~~~~~~\nThe easiest way to use *SMAC* is to use the :func:`f_min SMAC wrapper\n<smac.facade.func_facade.fmin_smac>`.\nWe import the fmin-function and wrap it around are simple branin function.\n\n\n"
      ]
    },
    {
      "cell_type": "code",
      "execution_count": null,
      "metadata": {
        "collapsed": false
      },
      "outputs": [],
      "source": [
        "from smac.facade.func_facade import fmin_smac\n\nx, cost, _ = fmin_smac(func=branin,  # function\n                       x0=[0, 0],  # default configuration\n                       bounds=[(-5, 10), (0, 15)],  # limits\n                       maxfun=10,  # maximum number of evaluations\n                       rng=3)  # random seed\nprint(\"Optimum at {} with cost of {}\".format(x, cost))"
      ]
    },
    {
      "cell_type": "markdown",
      "metadata": {},
      "source": [
        "This way, you can optimize a blackbox-function with minimal effort. However, to\nuse all of *SMAC's* capability, a `scenario` object should be used.\n\nCommand line\n~~~~~~~~~~~~\nA more evolved example can be found in ``examples/quickstart/branin/``.\nIn this directory you can find:\n\n* ``branin.py``\n* ``cmdline_wrapper.py``\n* ``scenario.txt``\n* ``param_config_space.pcs``\n\nTo run the example scenario, change into the root directory of *SMAC* and type the following commands:\n\n\n.. code-block:: bash\n\n    cd examples/quickstart/branin\n    python ../../scripts/smac --scenario scenario.txt\n\nThe Python command runs *SMAC* with the specified scenario. The scenario file consists of the following lines:\n\n.. literalinclude:: ../../../examples/quickstart/branin/scenario.txt\n\nThe **algo** parameter specifies how *SMAC* calls the target algorithm to be optimized.\nThis is further explained in the chapter about the Target Algorithm Evaluator (`TAE <tae>`).\nAn algorithm call by *SMAC* is of the following format:\n\n    .. code-block:: bash\n\n        <algo> <instance> <instance specific> <cutoff time> <runlength> <seed> <algorithm parameters>\n        python branin.py 0 0 999999999.0 0 1148756733 -x1 -1.1338595629 -x2 13.8770222718\n\nThe **paramfile** parameter tells *SMAC* which Parameter Configuration Space\n`PCS <paramcs>`-file to use. This file contains a list of the algorithm's parameters,\ntheir domains and default values:\n\n    .. literalinclude:: ../../../examples/quickstart/branin/param_config_space.pcs\n\n``x1`` and ``x2`` are both continuous parameters. ``x1`` can take any real value\nin the range ``[-5, 10]``, ``x2`` in the range ``[0, 15]`` and both have\nthe default value ``0``.\n\nThe **run_obj** parameter specifies what *SMAC* is supposed to **optimize**. Here we optimize solution quality.\nThe **runcount_limit** specifies the maximum number of algorithm calls.\n\n*SMAC* reads the results from the command line output. The wrapper returns the\nresults of the algorithm in a specific format:\n\n    .. code-block:: bash\n\n        Result for SMAC: <STATUS>, <running time>, <runlength>, <quality>, <seed>, <instance-specifics>\n        Result for SMAC: SUCCESS, 0, 0, 48.948190, 1148756733\n\n    | The second line is the result of the above listed algorithm call.\n    | *STATUS:* can be either *SUCCESS*, *CRASHED*, *SAT*, *UNSAT*, *TIMEOUT*\n    | *running time:* is the measured running time for an algorithm call\n    | *runlength:* is the number of steps needed to find a solution\n    | *quality:* the solution quality\n    | *seed:* the seed that was used with the algorithm call\n    | *instance-specifics:* additional information\n\n*SMAC* will terminate with the following output:\n\n    .. code-block:: bash\n\n        INFO:intensifier:Updated estimated error of incumbent on 122 runs: 0.5063\n        DEBUG:root:Remaining budget: inf (wallclock), inf (ta costs), -6.000000 (target runs)\n        INFO:Stats:##########################################################\n        INFO:Stats:Statistics:\n        INFO:Stats:#Target algorithm runs: 506\n        INFO:Stats:Used wallclock time: 44.00 sec\n        INFO:Stats:Used target algorithm runtime: 0.00 sec\n        INFO:Stats:##########################################################\n        INFO:SMAC:Final Incumbent: Configuration:\n          x1, Value: 9.556406137303922\n          x2, Value: 2.429138598022513\n\nFurthermore, *SMACs* trajectory and runhistory will be stored in ``branin/``.\n\n\n"
      ]
    },
    {
      "cell_type": "markdown",
      "metadata": {},
      "source": [
        "\nUsing *SMAC* in Python: SVM\n---------------------------\nTo explain the use of *SMAC* within Python, let's look at a real-world example,\noptimizing the hyperparameters of a Support Vector Machine (SVM) trained on the widely known `IRIS-dataset\n<https://en.wikipedia.org/wiki/Iris_flower_data_set>`_.\nThis example is located in :code:`examples/general/svm.py`.\n\nTo use *SMAC* directly with Python, we first import the necessary modules\n\n\n"
      ]
    },
    {
      "cell_type": "code",
      "execution_count": null,
      "metadata": {
        "collapsed": false
      },
      "outputs": [],
      "source": [
        "from ConfigSpace.conditions import InCondition\nfrom ConfigSpace.hyperparameters import CategoricalHyperparameter, \\\n    UniformFloatHyperparameter, UniformIntegerHyperparameter\nfrom sklearn import svm, datasets\nfrom sklearn.model_selection import cross_val_score\n\n# Import ConfigSpace and different types of parameters\nfrom smac.configspace import ConfigurationSpace\nfrom smac.facade.smac_hpo_facade import SMAC4HPO\n# Import SMAC-utilities\nfrom smac.scenario.scenario import Scenario\n\n# We load the iris-dataset (a widely used benchmark)\niris = datasets.load_iris()"
      ]
    },
    {
      "cell_type": "markdown",
      "metadata": {},
      "source": [
        "Next we need a configuration space from which to sample from\n\n"
      ]
    },
    {
      "cell_type": "code",
      "execution_count": null,
      "metadata": {
        "collapsed": false
      },
      "outputs": [],
      "source": [
        "# Build Configuration Space which defines all parameters and their ranges\ncs = ConfigurationSpace()\n\n# We define a few possible types of SVM-kernels and add them as \"kernel\" to our cs\nkernel = CategoricalHyperparameter(\"kernel\", [\"linear\", \"rbf\", \"poly\", \"sigmoid\"], default_value=\"poly\")\ncs.add_hyperparameter(kernel)\n\n# There are some hyperparameters shared by all kernels\nC = UniformFloatHyperparameter(\"C\", 0.001, 1000.0, default_value=1.0)\nshrinking = CategoricalHyperparameter(\"shrinking\", [\"true\", \"false\"], default_value=\"true\")\ncs.add_hyperparameters([C, shrinking])\n\n# Others are kernel-specific, so we can add conditions to limit the searchspace\ndegree = UniformIntegerHyperparameter(\"degree\", 1, 5, default_value=3)  # Only used by kernel poly\ncoef0 = UniformFloatHyperparameter(\"coef0\", 0.0, 10.0, default_value=0.0)  # poly, sigmoid\ncs.add_hyperparameters([degree, coef0])\nuse_degree = InCondition(child=degree, parent=kernel, values=[\"poly\"])\nuse_coef0 = InCondition(child=coef0, parent=kernel, values=[\"poly\", \"sigmoid\"])\ncs.add_conditions([use_degree, use_coef0])\n\n# This also works for parameters that are a mix of categorical and values from a range of numbers\n# For example, gamma can be either \"auto\" or a fixed float\ngamma = CategoricalHyperparameter(\"gamma\", [\"auto\", \"value\"], default_value=\"auto\")  # only rbf, poly, sigmoid\ngamma_value = UniformFloatHyperparameter(\"gamma_value\", 0.0001, 8, default_value=1)\ncs.add_hyperparameters([gamma, gamma_value])\n# We only activate gamma_value if gamma is set to \"value\"\ncs.add_condition(InCondition(child=gamma_value, parent=gamma, values=[\"value\"]))\n# And again we can restrict the use of gamma in general to the choice of the kernel\ncs.add_condition(InCondition(child=gamma, parent=kernel, values=[\"rbf\", \"poly\", \"sigmoid\"]))\n\nprint(cs)"
      ]
    },
    {
      "cell_type": "markdown",
      "metadata": {},
      "source": [
        "Of course we also define a function to evaluate the configured SVM on the IRIS-dataset.\nSome options, such as the *kernel* or *C*, can be passed directly.\nOthers, such as *gamma*, need to be translated before the call to the SVM.\n\n"
      ]
    },
    {
      "cell_type": "code",
      "execution_count": null,
      "metadata": {
        "collapsed": false
      },
      "outputs": [],
      "source": [
        "def svm_from_cfg(cfg):\n    \"\"\" Creates a SVM based on a configuration and evaluates it on the\n    iris-dataset using cross-validation.\n\n    Parameters:\n    -----------\n    cfg: Configuration (ConfigSpace.ConfigurationSpace.Configuration)\n        Configuration containing the parameters.\n        Configurations are indexable!\n\n    Returns:\n    --------\n    A crossvalidated mean score for the svm on the loaded data-set.\n    \"\"\"\n    # For deactivated parameters, the configuration stores None-values.\n    # This is not accepted by the SVM, so we remove them.\n    cfg = {k: cfg[k] for k in cfg if cfg[k]}\n    # We translate boolean values:\n    cfg[\"shrinking\"] = True if cfg[\"shrinking\"] == \"true\" else False\n    # And for gamma, we set it to a fixed value or to \"auto\" (if used)\n    if \"gamma\" in cfg:\n        cfg[\"gamma\"] = cfg[\"gamma_value\"] if cfg[\"gamma\"] == \"value\" else \"auto\"\n        cfg.pop(\"gamma_value\", None)  # Remove \"gamma_value\"\n\n    clf = svm.SVC(**cfg, random_state=42)\n    scores = cross_val_score(clf, iris.data, iris.target, cv=5)\n    return 1 - np.mean(scores)  # Minimize!\n\n\ndef_value = svm_from_cfg(cs.get_default_configuration())\nprint(\"Default Value: %.2f\" % (def_value))"
      ]
    },
    {
      "cell_type": "markdown",
      "metadata": {},
      "source": [
        "We need a Scenario-object to configure the optimization process.\nWe provide a `list of possible options <scenario>` in the scenario.\n\nThe initialization of a scenario in the code uses the same keywords as a\nscenario-file, which we used in the Branin example.\n\n\n"
      ]
    },
    {
      "cell_type": "code",
      "execution_count": null,
      "metadata": {
        "collapsed": false
      },
      "outputs": [],
      "source": [
        "scenario = Scenario({\"run_obj\": \"quality\",  # we optimize quality (alternatively runtime)\n                     \"runcount-limit\": 5,  # max. number of function evaluations; for this example set to a low number\n                     \"cs\": cs,  # configuration space\n                     \"deterministic\": \"true\"\n                     })"
      ]
    },
    {
      "cell_type": "markdown",
      "metadata": {},
      "source": [
        "Now we're ready to create a *SMAC*-instance, which handles the Bayesian\nOptimization-loop and calculates the incumbent.\nTo automatically handle the exploration of the search space\nand evaluation of the function, SMAC needs as inputs the scenario object\nas well as the function.\n\n\n"
      ]
    },
    {
      "cell_type": "code",
      "execution_count": null,
      "metadata": {
        "collapsed": false
      },
      "outputs": [],
      "source": [
        "smac = SMAC4HPO(scenario=scenario, rng=np.random.RandomState(42),\n                tae_runner=svm_from_cfg)\n\nincumbent = smac.optimize()\n\ninc_value = svm_from_cfg(incumbent)\nprint(\"Optimized Value: %.2f\" % (inc_value))"
      ]
    },
    {
      "cell_type": "markdown",
      "metadata": {},
      "source": [
        "Internally SMAC keeps track of the number of algorithm calls and the remaining time budget via a Stats object.\n\nAfter successful execution of the optimization loop the Stats object outputs the result of the loop.\n\n.. code-block:: bash\n\n    INFO:smac.stats.stats.Stats:##########################################################\n    INFO:smac.stats.stats.Stats:Statistics:\n    INFO:smac.stats.stats.Stats:#Incumbent changed: 88\n    INFO:smac.stats.stats.Stats:#Target algorithm runs: 200 / 200.0\n    INFO:smac.stats.stats.Stats:Used wallclock time: 41.73 / inf sec\n    INFO:smac.stats.stats.Stats:Used target algorithm runtime: 17.44 / inf sec\n    INFO:smac.stats.stats.Stats:##########################################################\n    INFO:smac.facade.smac_facade.SMAC:Final Incumbent: Configuration:\n      C, Value: 357.4171743725004\n      coef0, Value: 9.593372746957046\n      degree, Value: 1\n      gamma, Value: 'value'\n      gamma_value, Value: 0.0029046235175726105\n      kernel, Value: 'poly'\n      shrinking, Value: 'false'\n\nWe further query the target function at the incumbent, using the function evaluator\nso that as final output we can see the error value of the incumbent.\n\n.. code-block:: bash\n\n   Optimized Value: 0.02\n\nAs a bonus, we can validate our results. This is more useful when optimizing on\ninstances, but we include the code so it is easily applicable for any usecase.\n\nWe can also validate our results (though this makes a lot more sense with instances)\n\n"
      ]
    },
    {
      "cell_type": "code",
      "execution_count": null,
      "metadata": {
        "collapsed": false
      },
      "outputs": [],
      "source": [
        "smac.validate(config_mode='inc',  # We can choose which configurations to evaluate\n              # instance_mode='train+test',  # Defines what instances to validate\n              repetitions=100,  # Ignored, unless you set \"deterministic\" to \"false\" in line 95\n              n_jobs=1)  # How many cores to use in parallel for optimization"
      ]
    },
    {
      "cell_type": "markdown",
      "metadata": {},
      "source": [
        "\nSpear-QCP\n---------\nFor this example we use *SMAC* to optimize the runtime required by the SAT solver\n`Spear <http://www.domagoj-babic.com/index.php/ResearchProjects/Spear>`_\nto solve a small subset of the QCP-dataset.\n\nIn *SMACs* root-directory type:\n\n.. code-block:: bash\n\n    cd examples/quickstart/spear_qcp && ls -l\n\nIn this folder you see the following files and directories:\n\n* **features.txt**:\n\n    The `feature file <feature>` contains the features for each instance in a csv-format.\n\n    +--------------------+--------------------+--------------------+-----+\n    |      instance      | name of feature 1  | name of feature 2  | ... |\n    +====================+====================+====================+=====+\n    | name of instance 1 | value of feature 1 | value of feature 2 | ... |\n    +--------------------+--------------------+--------------------+-----+\n    |         ...        |          ...       |          ...       | ... |\n    +--------------------+--------------------+--------------------+-----+\n\n* **instances.txt**\n  The ref:`instance` contains the names of all\n  instances one might want to consider during the optimization process.\n\n* **scenario.txt**\n  The `scenario <scenario>` file contains all the necessary information about the configuration scenario at hand.\n\n  .. literalinclude:: ../../../examples/quickstart/spear_qcp/scenario.txt\n\n  For this example the following options are used:\n\n  * *algo:*\n\n    .. code-block:: bash\n\n        python -u ./target_algorithm/scripts/SATCSSCWrapper.py \\\n            --mem-limit 1024 \\\n            --script ./target_algorithm/spear-python/spearCSSCWrapper.py\n\n    This specifies the wrapper that *SMAC* executes with a pre-specified\n    syntax in order to evaluate the algorithm to be optimized.\n    This wrapper script takes an instantiation of the parameters as input,\n    runs the algorithm with these parameters, and returns\n    the cost of running the algorithm; since every algorithm has a different\n    input and output format, this wrapper acts as an interface between the\n    algorithm and *SMAC*, which executes the wrapper through a command line call.\n\n    An example call would look something like this:\n\n    .. code-block:: bash\n\n        <algo> <instance> <instance specifics> <cutoff time> <runlength> <seed> <algorithm parameters>\n\n    For *SMAC* to be able to interpret the results of the algorithm run,\n    the wrapper returns the results of the algorithm run as follows:\n\n    .. code-block:: bash\n\n        STATUS, running time, runlength, quality, seed, instance-specifics\n\n  * *paramfile:*\n\n    This parameter specifies which pcs-file to use and where it is located.\n\n    The PCS-file specifies the Parameter Configuration Space file, which\n    lists the algorithm's parameters, their domains, and default values (one per line)\n\n    In this example we are dealing with 26 parameters of which 12 are categorical\n    and 14 are continuous. Out of these 26\n    parameters, 9 parameters are conditionals (they are only active if\n    their parent parameter takes on a certain value).\n\n  * *execdir:* Specifies the directory in which the target algorithm will be run.\n\n  * *deterministic:* Specifies if the target algorithm is deterministic.\n\n  * *run_obj:* This parameter tells *SMAC* what is to be optimized, i.e. running time or (solution) quality.\n\n  * *overall_obj:* Specifies how to evaluate the error values, e.g as mean or PARX.\n\n  * *cutoff_time:* The target algorithms cutoff time.\n\n  * *wallclock-limit:* This parameter is used to give the time budget for the configuration task in seconds.\n\n  * *instance_file:* See instances.txt above.\n\n  * *feature_file:* See features.txt above.\n\n* **run.sh**\n  A shell script calling *SMAC* with the following command:\n\n  .. code-block:: bash\n\n      python ../../scripts/smac --scenario scenario.txt --verbose DEBUG``\n\n  This runs *SMAC* with the scenario options specified in the scenario.txt file.\n\n* **target_algorithms** contains the wrapper and the executable for Spear.\n\n* **instances** folder contains the instances on which *SMAC* will configure Spear.\n\nTo run the example type one of the two commands below into a terminal:\n\n.. code-block:: bash\n\n    bash run.sh\n    python ../../scripts/smac --scenario scenario.txt\n\n*SMAC* will run for a few seconds and generate a lot of logging output.\nAfter *SMAC* finished the configuration process you'll get some final statistics about the configuration process:\n\n.. code-block:: bash\n\n   INFO:    ##########################################################\n   INFO:    Statistics:\n   INFO:    #Incumbent changed: 2\n   INFO:    #Target algorithm runs: 17 / inf\n   INFO:    Used wallclock time: 35.38 / 30.00 sec\n   INFO:    Used target algorithm runtime: 20.10 / inf sec\n   INFO:    ##########################################################\n   INFO:    Final Incumbent: Configuration:\n     sp-clause-activity-inc, Value: 0.9846527087294622\n     sp-clause-decay, Value: 1.1630090545101102\n     sp-clause-del-heur, Value: '0'\n     sp-first-restart, Value: 30\n     sp-learned-clause-sort-heur, Value: '10'\n     sp-learned-clauses-inc, Value: 1.2739749314202675\n     sp-learned-size-factor, Value: 0.8355014264152971\n     sp-orig-clause-sort-heur, Value: '1'\n     sp-phase-dec-heur, Value: '0'\n     sp-rand-phase-dec-freq, Value: '0.01'\n     sp-rand-phase-scaling, Value: 0.3488055907688382\n     sp-rand-var-dec-freq, Value: '0.05'\n     sp-rand-var-dec-scaling, Value: 0.46427056372562864\n     sp-resolution, Value: '0'\n     sp-restart-inc, Value: 1.7510945705535836\n     sp-update-dec-queue, Value: '1'\n     sp-use-pure-literal-rule, Value: '0'\n     sp-var-activity-inc, Value: 0.9000377944957962\n     sp-var-dec-heur, Value: '14'\n     sp-variable-decay, Value: 1.8292433459523076\n\n\n\nThe statistics further show the used wallclock time, target algorithm running\ntime and the number of executed target algorithm runs,\nand the corresponding budgets---here we exhausted the wallclock time budget.\n\nThe directory in which you invoked *SMAC* now contains a new folder called **SMAC3-output_YYYY-MM-DD_HH:MM:SS**.\nThe .json file contains the information about the target algorithms *SMAC* just\nexecuted. In this file you can see the *status* of the algorithm run, *misc*,\nthe *instance* on which the algorithm was evaluated, which *seed* was used,\nhow much *time* the algorithm needed and with which *configuration* the algorithm\nwas run.\nIn the folder *SMAC* generates a file for the runhistory, and two files for the trajectory.\n\n\n\nHydra on Spear-QCP\n------------------\n\nFor this example we use *Hydra* to build a portfolio on the same example data\npresented in `Spear-QCP <spear-example>`\nHydra is a portfolio builder that aims to build a portfolio by iteratively adding complementary configurations to the\nalready existing portfolio. To select these complementary configurations *Hydra* compares new configurations to the\nportfolio and only considers configurations that improve the portfolio performance.\nIn the first iteration Hydra runs standard *SMAC* to determine a well performing configuration\nacross all instances as a starting point for the portfolio. In following iterations\n*Hydra* adds one configuration that\nimproves the portfolio performance.\n\nTo run Hydra for three iterations you can run the following code in the spear-qcp example folder.\n\n.. code-block:: bash\n\n      python ../../scripts/smac --scenario scenario.txt --verbose DEBUG --mode Hydra --hydra_iterations 3\n\nAs the individual SMAC scenario takes 30 seconds to run Hydra will run for ~90 seconds on this example.\nYou will see the same output to the terminal as with standard SMAC. In the folder\nwhere you executed the above command,\nyou will find a *hydra-output-yyy-mm-dd_hh:mm:ss_xyz* folder. This folder contains the results of all three performed\nSMAC runs, as well as the resulting portfolio (as pkl file).\n\nThe resulting portfolio can be used with any algorithm selector such as\n`AutoFolio <https://github.com/mlindauer/AutoFolio>`_\n\n"
      ]
    }
  ],
  "metadata": {
    "kernelspec": {
      "display_name": "Python 3",
      "language": "python",
      "name": "python3"
    },
    "language_info": {
      "codemirror_mode": {
        "name": "ipython",
        "version": 3
      },
      "file_extension": ".py",
      "mimetype": "text/x-python",
      "name": "python",
      "nbconvert_exporter": "python",
      "pygments_lexer": "ipython3",
      "version": "3.8.12"
    }
  },
  "nbformat": 4,
  "nbformat_minor": 0
}