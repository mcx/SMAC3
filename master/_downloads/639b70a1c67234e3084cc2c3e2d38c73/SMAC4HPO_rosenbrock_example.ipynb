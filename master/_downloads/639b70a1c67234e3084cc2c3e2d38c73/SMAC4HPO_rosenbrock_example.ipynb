{
  "cells": [
    {
      "cell_type": "code",
      "execution_count": null,
      "metadata": {
        "collapsed": false
      },
      "outputs": [],
      "source": [
        "%matplotlib inline"
      ]
    },
    {
      "cell_type": "markdown",
      "metadata": {},
      "source": [
        "\n# Using SMAC tuned for HPO for black-box optimization\n\n"
      ]
    },
    {
      "cell_type": "code",
      "execution_count": null,
      "metadata": {
        "collapsed": false
      },
      "outputs": [],
      "source": [
        "import logging\nlogging.basicConfig(level=logging.INFO)\n\nimport numpy as np\nfrom ConfigSpace.hyperparameters import UniformFloatHyperparameter\n\n# Import ConfigSpace and different types of parameters\nfrom smac.configspace import ConfigurationSpace\nfrom smac.facade.smac_hpo_facade import SMAC4HPO\n# Import SMAC-utilities\nfrom smac.scenario.scenario import Scenario\n\n__copyright__ = \"Copyright 2021, AutoML.org Freiburg-Hannover\"\n__license__ = \"3-clause BSD\"\n\n\ndef rosenbrock_2d(x):\n    \"\"\" The 2 dimensional Rosenbrock function as a toy model\n    The Rosenbrock function is well know in the optimization community and\n    often serves as a toy problem. It can be defined for arbitrary\n    dimensions. The minimium is always at x_i = 1 with a function value of\n    zero. All input parameters are continuous. The search domain for\n    all x's is the interval [-5, 10].\n    \"\"\"\n    x1 = x[\"x0\"]\n    x2 = x[\"x1\"]\n\n    val = 100. * (x2 - x1 ** 2.) ** 2. + (1 - x1) ** 2.\n    return val\n\n\nif __name__ == \"__main__\":\n    # Build Configuration Space which defines all parameters and their ranges\n    cs = ConfigurationSpace()\n    x0 = UniformFloatHyperparameter(\"x0\", -5, 10, default_value=-3)\n    x1 = UniformFloatHyperparameter(\"x1\", -5, 10, default_value=-4)\n    cs.add_hyperparameters([x0, x1])\n\n    # Scenario object\n    scenario = Scenario({\"run_obj\": \"quality\",  # we optimize quality (alternatively runtime)\n                         \"runcount-limit\": 10,\n                         # max. number of function evaluations; for this example set to a low number\n                         \"cs\": cs,  # configuration space\n                         \"deterministic\": \"true\"\n                         })\n\n    # Example call of the function\n    # It returns: Status, Cost, Runtime, Additional Infos\n    def_value = rosenbrock_2d(cs.get_default_configuration())\n    print(\"Default Value: %.2f\" % def_value)\n\n    # Optimize, using a SMAC-object\n    print(\"Optimizing! Depending on your machine, this might take a few minutes.\")\n    smac = SMAC4HPO(scenario=scenario,\n                    rng=np.random.RandomState(42),\n                    tae_runner=rosenbrock_2d)\n\n    smac.optimize()"
      ]
    }
  ],
  "metadata": {
    "kernelspec": {
      "display_name": "Python 3",
      "language": "python",
      "name": "python3"
    },
    "language_info": {
      "codemirror_mode": {
        "name": "ipython",
        "version": 3
      },
      "file_extension": ".py",
      "mimetype": "text/x-python",
      "name": "python",
      "nbconvert_exporter": "python",
      "pygments_lexer": "ipython3",
      "version": "3.8.12"
    }
  },
  "nbformat": 4,
  "nbformat_minor": 0
}